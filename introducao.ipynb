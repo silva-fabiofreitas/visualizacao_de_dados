{
 "cells": [
  {
   "cell_type": "markdown",
   "metadata": {},
   "source": [
    "# Iniciando com a Plotly em Python\n",
    "\n",
    "A plotly é uma biblioteca de plotagem interativa e de código aberto que oferece suporte a mais de 40 tipos de gráficos exclusivos, cobrindo uma ampla variedade de casos de uso:\n",
    "* estatísticos, \n",
    "* financeiros, \n",
    "* geográficos, \n",
    "* científicos e \n",
    "* tridimensionais.\n",
    "\n",
    "Construído sobre a biblioteca **Plotly JavaScript** ( plotly.js ), permite que os usuários do Python criem belas visualizações interativas baseadas na web que podem ser exibidas:\n",
    " * em notebooks Jupyter, \n",
    " * salvas em arquivos HTML independentes \n",
    " * ou servidas como parte de aplicativos da web puros criados em Python "
   ]
  },
  {
   "cell_type": "code",
   "execution_count": null,
   "metadata": {},
   "outputs": [],
   "source": [
    "!pip install -r requirements"
   ]
  }
 ],
 "metadata": {
  "language_info": {
   "name": "python"
  }
 },
 "nbformat": 4,
 "nbformat_minor": 2
}
